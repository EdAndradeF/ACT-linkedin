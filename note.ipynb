{
 "cells": [
  {
   "cell_type": "code",
   "execution_count": 2,
   "metadata": {},
   "outputs": [],
   "source": [
    "import trat\n",
    "import pandas as pd\n",
    "import json"
   ]
  },
  {
   "cell_type": "code",
   "execution_count": 3,
   "metadata": {},
   "outputs": [],
   "source": [
    "pd.set_option('display.max_columns', 30)"
   ]
  },
  {
   "cell_type": "code",
   "execution_count": 7,
   "metadata": {},
   "outputs": [],
   "source": [
    "jason = pd.read_json('./data/data.json')"
   ]
  },
  {
   "cell_type": "code",
   "execution_count": 16,
   "metadata": {},
   "outputs": [],
   "source": [
    "df = pd.read_csv('./data/vagas_tratas_02-06-22.csv', sep='^')"
   ]
  },
  {
   "cell_type": "code",
   "execution_count": 17,
   "metadata": {},
   "outputs": [
    {
     "name": "stdout",
     "output_type": "stream",
     "text": [
      "<class 'pandas.core.frame.DataFrame'>\n",
      "RangeIndex: 108 entries, 0 to 107\n",
      "Data columns (total 21 columns):\n",
      " #   Column                  Non-Null Count  Dtype  \n",
      "---  ------                  --------------  -----  \n",
      " 0   Unnamed: 0              108 non-null    int64  \n",
      " 1   id                      108 non-null    int64  \n",
      " 2   titulo                  108 non-null    object \n",
      " 3   empresa                 108 non-null    object \n",
      " 4   local                   108 non-null    object \n",
      " 5   descricao               108 non-null    object \n",
      " 6   local_trabalho          108 non-null    int64  \n",
      " 7   recrutador              56 non-null     object \n",
      " 8   aceita_inscricao        90 non-null     object \n",
      " 9   candidatos              108 non-null    int64  \n",
      " 10  data_publicacao         18 non-null     object \n",
      " 11  aberta                  108 non-null    int64  \n",
      " 12  servico                 108 non-null    object \n",
      " 13  tipo_contratacao        58 non-null     float64\n",
      " 14  quantidade_funcionario  50 non-null     float64\n",
      " 15  correspondente          4 non-null      float64\n",
      " 16  conexao_ensino          6 non-null      float64\n",
      " 17  recrutando_agora        5 non-null      float64\n",
      " 18  selo_competencia        2 non-null      float64\n",
      " 19  conexoes                5 non-null      float64\n",
      " 20  nivel_cargo             1 non-null      float64\n",
      "dtypes: float64(8), int64(5), object(8)\n",
      "memory usage: 17.8+ KB\n"
     ]
    }
   ],
   "source": [
    "df.info()"
   ]
  }
 ],
 "metadata": {
  "interpreter": {
   "hash": "ea958a089fb8b0642d740049308597d25d2a86bc221b121fe5a8d8314d8a0e8d"
  },
  "kernelspec": {
   "display_name": "Python 3.9.7 ('base')",
   "language": "python",
   "name": "python3"
  },
  "language_info": {
   "codemirror_mode": {
    "name": "ipython",
    "version": 3
   },
   "file_extension": ".py",
   "mimetype": "text/x-python",
   "name": "python",
   "nbconvert_exporter": "python",
   "pygments_lexer": "ipython3",
   "version": "3.9.7"
  },
  "orig_nbformat": 4
 },
 "nbformat": 4,
 "nbformat_minor": 2
}
